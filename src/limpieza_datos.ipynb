{
 "cells": [
  {
   "cell_type": "code",
   "execution_count": 110,
   "id": "11436a30",
   "metadata": {},
   "outputs": [],
   "source": [
    "import pandas as pd"
   ]
  },
  {
   "cell_type": "markdown",
   "id": "21594c0e",
   "metadata": {},
   "source": [
    "1 Limpiamos los data para trabajar con ellos"
   ]
  },
  {
   "cell_type": "code",
   "execution_count": 111,
   "id": "eb663cb0",
   "metadata": {},
   "outputs": [
    {
     "data": {
      "text/html": [
       "<div>\n",
       "<style scoped>\n",
       "    .dataframe tbody tr th:only-of-type {\n",
       "        vertical-align: middle;\n",
       "    }\n",
       "\n",
       "    .dataframe tbody tr th {\n",
       "        vertical-align: top;\n",
       "    }\n",
       "\n",
       "    .dataframe thead th {\n",
       "        text-align: right;\n",
       "    }\n",
       "</style>\n",
       "<table border=\"1\" class=\"dataframe\">\n",
       "  <thead>\n",
       "    <tr style=\"text-align: right;\">\n",
       "      <th></th>\n",
       "      <th>home</th>\n",
       "      <th>score</th>\n",
       "      <th>away</th>\n",
       "      <th>year</th>\n",
       "    </tr>\n",
       "  </thead>\n",
       "  <tbody>\n",
       "    <tr>\n",
       "      <th>0</th>\n",
       "      <td>France</td>\n",
       "      <td>4–1</td>\n",
       "      <td>Mexico</td>\n",
       "      <td>1930</td>\n",
       "    </tr>\n",
       "    <tr>\n",
       "      <th>1</th>\n",
       "      <td>Argentina</td>\n",
       "      <td>1–0</td>\n",
       "      <td>France</td>\n",
       "      <td>1930</td>\n",
       "    </tr>\n",
       "    <tr>\n",
       "      <th>2</th>\n",
       "      <td>Chile</td>\n",
       "      <td>3–0</td>\n",
       "      <td>Mexico</td>\n",
       "      <td>1930</td>\n",
       "    </tr>\n",
       "    <tr>\n",
       "      <th>3</th>\n",
       "      <td>Chile</td>\n",
       "      <td>1–0</td>\n",
       "      <td>France</td>\n",
       "      <td>1930</td>\n",
       "    </tr>\n",
       "    <tr>\n",
       "      <th>4</th>\n",
       "      <td>Argentina</td>\n",
       "      <td>6–3</td>\n",
       "      <td>Mexico</td>\n",
       "      <td>1930</td>\n",
       "    </tr>\n",
       "    <tr>\n",
       "      <th>...</th>\n",
       "      <td>...</td>\n",
       "      <td>...</td>\n",
       "      <td>...</td>\n",
       "      <td>...</td>\n",
       "    </tr>\n",
       "    <tr>\n",
       "      <th>452</th>\n",
       "      <td>Russia</td>\n",
       "      <td>2–2 (a.e.t.)</td>\n",
       "      <td>Croatia</td>\n",
       "      <td>2018</td>\n",
       "    </tr>\n",
       "    <tr>\n",
       "      <th>453</th>\n",
       "      <td>France</td>\n",
       "      <td>1–0</td>\n",
       "      <td>Belgium</td>\n",
       "      <td>2018</td>\n",
       "    </tr>\n",
       "    <tr>\n",
       "      <th>454</th>\n",
       "      <td>Croatia</td>\n",
       "      <td>2–1 (a.e.t.)</td>\n",
       "      <td>England</td>\n",
       "      <td>2018</td>\n",
       "    </tr>\n",
       "    <tr>\n",
       "      <th>455</th>\n",
       "      <td>Belgium</td>\n",
       "      <td>2–0</td>\n",
       "      <td>England</td>\n",
       "      <td>2018</td>\n",
       "    </tr>\n",
       "    <tr>\n",
       "      <th>456</th>\n",
       "      <td>France</td>\n",
       "      <td>4–2</td>\n",
       "      <td>Croatia</td>\n",
       "      <td>2018</td>\n",
       "    </tr>\n",
       "  </tbody>\n",
       "</table>\n",
       "<p>457 rows × 4 columns</p>\n",
       "</div>"
      ],
      "text/plain": [
       "           home         score      away  year\n",
       "0       France            4–1    Mexico  1930\n",
       "1    Argentina            1–0    France  1930\n",
       "2        Chile            3–0    Mexico  1930\n",
       "3        Chile            1–0    France  1930\n",
       "4    Argentina            6–3    Mexico  1930\n",
       "..          ...           ...       ...   ...\n",
       "452     Russia   2–2 (a.e.t.)   Croatia  2018\n",
       "453     France            1–0   Belgium  2018\n",
       "454    Croatia   2–1 (a.e.t.)   England  2018\n",
       "455    Belgium            2–0   England  2018\n",
       "456     France            4–2   Croatia  2018\n",
       "\n",
       "[457 rows x 4 columns]"
      ]
     },
     "execution_count": 111,
     "metadata": {},
     "output_type": "execute_result"
    }
   ],
   "source": [
    "df_data_historico = pd.read_csv('fifa_worldcup_matches.csv') #datos historicos de resultados en mundiales\n",
    "df_fixture = pd.read_csv('fifa_worldcup_fixture.csv') #partidos del mundial 2022\n",
    "df_data_faltante = pd.read_csv('fifa_worldcup_missing_data.csv')\n",
    "df_data_historico"
   ]
  },
  {
   "cell_type": "markdown",
   "id": "e952962f",
   "metadata": {},
   "source": [
    "Ahora limpiamos df_fixture"
   ]
  },
  {
   "cell_type": "code",
   "execution_count": 112,
   "id": "157b6c9b",
   "metadata": {},
   "outputs": [],
   "source": [
    "df_fixture['home']=df_fixture['home'].str.strip() #quitamos espacios en blanco\n",
    "df_fixture['away']=df_fixture['away'].str.strip() #hacemos lo mismo"
   ]
  },
  {
   "cell_type": "code",
   "execution_count": 113,
   "id": "e99983db",
   "metadata": {},
   "outputs": [],
   "source": [
    "df_data_faltante.dropna(inplace=True)"
   ]
  },
  {
   "cell_type": "code",
   "execution_count": 114,
   "id": "78e142e9",
   "metadata": {},
   "outputs": [
    {
     "data": {
      "text/html": [
       "<div>\n",
       "<style scoped>\n",
       "    .dataframe tbody tr th:only-of-type {\n",
       "        vertical-align: middle;\n",
       "    }\n",
       "\n",
       "    .dataframe tbody tr th {\n",
       "        vertical-align: top;\n",
       "    }\n",
       "\n",
       "    .dataframe thead th {\n",
       "        text-align: right;\n",
       "    }\n",
       "</style>\n",
       "<table border=\"1\" class=\"dataframe\">\n",
       "  <thead>\n",
       "    <tr style=\"text-align: right;\">\n",
       "      <th></th>\n",
       "      <th>home</th>\n",
       "      <th>score</th>\n",
       "      <th>away</th>\n",
       "      <th>year</th>\n",
       "    </tr>\n",
       "  </thead>\n",
       "  <tbody>\n",
       "    <tr>\n",
       "      <th>0</th>\n",
       "      <td>France</td>\n",
       "      <td>4–1</td>\n",
       "      <td>Mexico</td>\n",
       "      <td>1930</td>\n",
       "    </tr>\n",
       "    <tr>\n",
       "      <th>17</th>\n",
       "      <td>Uruguay</td>\n",
       "      <td>4–2</td>\n",
       "      <td>Argentina</td>\n",
       "      <td>1930</td>\n",
       "    </tr>\n",
       "    <tr>\n",
       "      <th>16</th>\n",
       "      <td>Uruguay</td>\n",
       "      <td>6–1</td>\n",
       "      <td>Yugoslavia</td>\n",
       "      <td>1930</td>\n",
       "    </tr>\n",
       "    <tr>\n",
       "      <th>15</th>\n",
       "      <td>Argentina</td>\n",
       "      <td>6–1</td>\n",
       "      <td>United States</td>\n",
       "      <td>1930</td>\n",
       "    </tr>\n",
       "    <tr>\n",
       "      <th>14</th>\n",
       "      <td>Paraguay</td>\n",
       "      <td>1–0</td>\n",
       "      <td>Belgium</td>\n",
       "      <td>1930</td>\n",
       "    </tr>\n",
       "    <tr>\n",
       "      <th>...</th>\n",
       "      <td>...</td>\n",
       "      <td>...</td>\n",
       "      <td>...</td>\n",
       "      <td>...</td>\n",
       "    </tr>\n",
       "    <tr>\n",
       "      <th>419</th>\n",
       "      <td>Brazil</td>\n",
       "      <td>2–0</td>\n",
       "      <td>Costa Rica</td>\n",
       "      <td>2018</td>\n",
       "    </tr>\n",
       "    <tr>\n",
       "      <th>420</th>\n",
       "      <td>Serbia</td>\n",
       "      <td>1–2</td>\n",
       "      <td>Switzerland</td>\n",
       "      <td>2018</td>\n",
       "    </tr>\n",
       "    <tr>\n",
       "      <th>421</th>\n",
       "      <td>Serbia</td>\n",
       "      <td>0–2</td>\n",
       "      <td>Brazil</td>\n",
       "      <td>2018</td>\n",
       "    </tr>\n",
       "    <tr>\n",
       "      <th>408</th>\n",
       "      <td>France</td>\n",
       "      <td>1–0</td>\n",
       "      <td>Peru</td>\n",
       "      <td>2018</td>\n",
       "    </tr>\n",
       "    <tr>\n",
       "      <th>450</th>\n",
       "      <td>Brazil</td>\n",
       "      <td>1–2</td>\n",
       "      <td>Belgium</td>\n",
       "      <td>2018</td>\n",
       "    </tr>\n",
       "  </tbody>\n",
       "</table>\n",
       "<p>901 rows × 4 columns</p>\n",
       "</div>"
      ],
      "text/plain": [
       "           home score            away  year\n",
       "0       France    4–1          Mexico  1930\n",
       "17     Uruguay    4–2       Argentina  1930\n",
       "16     Uruguay    6–1      Yugoslavia  1930\n",
       "15   Argentina    6–1   United States  1930\n",
       "14    Paraguay    1–0         Belgium  1930\n",
       "..          ...   ...             ...   ...\n",
       "419     Brazil    2–0      Costa Rica  2018\n",
       "420     Serbia    1–2     Switzerland  2018\n",
       "421     Serbia    0–2          Brazil  2018\n",
       "408     France    1–0            Peru  2018\n",
       "450     Brazil    1–2         Belgium  2018\n",
       "\n",
       "[901 rows x 4 columns]"
      ]
     },
     "execution_count": 114,
     "metadata": {},
     "output_type": "execute_result"
    }
   ],
   "source": [
    "df_data_historico = pd.concat([df_data_historico, df_data_faltante], ignore_index=True) #unimos 2 datas para tener un data historico completo\n",
    "df_data_historico.drop_duplicates(inplace=True)\n",
    "df_data_historico.sort_values('year', inplace=True)\n",
    "df_data_historico"
   ]
  },
  {
   "cell_type": "code",
   "execution_count": 115,
   "id": "60a40a90",
   "metadata": {},
   "outputs": [],
   "source": [
    "index_eliminar = df_data_historico[df_data_historico['home'].str.contains('Sweden') &\n",
    "                                   df_data_historico['away'].str.contains('Austria')].index"
   ]
  },
  {
   "cell_type": "code",
   "execution_count": 116,
   "id": "bd50e21d",
   "metadata": {},
   "outputs": [],
   "source": [
    "df_data_historico.drop(index=index_eliminar, inplace=True) #con esto eliminamos los resultados que no entrarn con los argumentos que usaremos"
   ]
  },
  {
   "cell_type": "code",
   "execution_count": 117,
   "id": "66f864b9",
   "metadata": {},
   "outputs": [],
   "source": [
    "df_data_historico['score']= df_data_historico['score'].str.replace('[^\\d–]', '',regex=True)"
   ]
  },
  {
   "cell_type": "code",
   "execution_count": 118,
   "id": "3790196b",
   "metadata": {},
   "outputs": [],
   "source": [
    "df_data_historico['home']= df_data_historico['home'].str.strip()\n",
    "df_data_historico['away']= df_data_historico['away'].str.strip()"
   ]
  },
  {
   "cell_type": "code",
   "execution_count": 119,
   "id": "f402315d",
   "metadata": {},
   "outputs": [],
   "source": [
    "df_data_historico[['HomeGoals', 'AwayGoals']]= df_data_historico['score'].str.split('–', expand=True)"
   ]
  },
  {
   "cell_type": "code",
   "execution_count": 120,
   "id": "b47e7499",
   "metadata": {},
   "outputs": [],
   "source": [
    "df_data_historico.drop('score', axis=1, inplace=True)"
   ]
  },
  {
   "cell_type": "code",
   "execution_count": 124,
   "id": "807c9ee9",
   "metadata": {},
   "outputs": [
    {
     "data": {
      "text/plain": [
       "home         object\n",
       "away         object\n",
       "year          int64\n",
       "HomeGoals     int64\n",
       "AwayGoals     int64\n",
       "dtype: object"
      ]
     },
     "execution_count": 124,
     "metadata": {},
     "output_type": "execute_result"
    }
   ],
   "source": [
    "df_data_historico = df_data_historico.astype({'HomeGoals': int, 'AwayGoals': int})\n",
    "df_data_historico.dtypes"
   ]
  },
  {
   "cell_type": "markdown",
   "id": "fa1adb15",
   "metadata": {},
   "source": [
    "Todo esto nos genera los archivos data clean donde ahora podremos usar estos datos para nuestro pronostico."
   ]
  },
  {
   "cell_type": "code",
   "execution_count": null,
   "id": "231a389e",
   "metadata": {},
   "outputs": [],
   "source": []
  }
 ],
 "metadata": {
  "kernelspec": {
   "display_name": "Python 3 (ipykernel)",
   "language": "python",
   "name": "python3"
  },
  "language_info": {
   "codemirror_mode": {
    "name": "ipython",
    "version": 3
   },
   "file_extension": ".py",
   "mimetype": "text/x-python",
   "name": "python",
   "nbconvert_exporter": "python",
   "pygments_lexer": "ipython3",
   "version": "3.10.8"
  },
  "vscode": {
   "interpreter": {
    "hash": "e7370f93d1d0cde622a1f8e1c04877d8463912d04d973331ad4851f04de6915a"
   }
  }
 },
 "nbformat": 4,
 "nbformat_minor": 5
}
